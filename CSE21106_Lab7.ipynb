{
  "nbformat": 4,
  "nbformat_minor": 0,
  "metadata": {
    "colab": {
      "provenance": []
    },
    "kernelspec": {
      "name": "python3",
      "display_name": "Python 3"
    },
    "language_info": {
      "name": "python"
    }
  },
  "cells": [
    {
      "cell_type": "code",
      "source": [
        "import pandas as pd"
      ],
      "metadata": {
        "id": "8gcjZVl1OQ9F"
      },
      "execution_count": 9,
      "outputs": []
    },
    {
      "cell_type": "code",
      "source": [
        "import numpy as np"
      ],
      "metadata": {
        "id": "mZohbRprOUyo"
      },
      "execution_count": 10,
      "outputs": []
    },
    {
      "cell_type": "code",
      "source": [
        "#A1\n",
        "\n",
        "from sklearn import svm\n",
        "from sklearn.model_selection import train_test_split\n",
        "from sklearn.preprocessing import LabelEncoder\n",
        "from sklearn.impute import SimpleImputer\n",
        "\n",
        "\n",
        "data = {\n",
        "    'Gender': ['Male', 'Female', 'Male', 'Female'],\n",
        "    'Customer Type': ['Regular', 'VIP', 'Regular', 'VIP'],\n",
        "    'Type of Travel': ['Business', 'Business', 'Personal', 'Business'],\n",
        "    'Class': ['Economy', 'Business', 'Economy', 'Business'],\n",
        "    'satisfaction': ['Satisfied', 'Dissatisfied', 'Satisfied', 'Dissatisfied'],\n",
        "    'Feature1': [10, 20, 15, 25],\n",
        "    'Feature2': [30, 40, 35, 45]\n",
        "}\n",
        "\n",
        "df = pd.DataFrame(data)\n",
        "\n",
        "\n",
        "label_encoder = LabelEncoder()\n",
        "df['Gender'] = label_encoder.fit_transform(df['Gender'])\n",
        "df['Customer Type'] = label_encoder.fit_transform(df['Customer Type'])\n",
        "df['Type of Travel'] = label_encoder.fit_transform(df['Type of Travel'])\n",
        "df['Class'] = label_encoder.fit_transform(df['Class'])\n",
        "df['satisfaction'] = label_encoder.fit_transform(df['satisfaction'])\n",
        "\n",
        "X = df.drop('satisfaction', axis=1)\n",
        "y = df['satisfaction']\n",
        "\n",
        "class_1 = 0\n",
        "class_2 = 1\n",
        "\n",
        "X_binary = X[(y == class_1) | (y == class_2)]\n",
        "y_binary = y[(y == class_1) | (y == class_2)]\n",
        "\n",
        "X_train, X_test, y_train, y_test = train_test_split(X_binary, y_binary, test_size=0.2, random_state=42)\n",
        "\n",
        "imputer = SimpleImputer(strategy='mean')\n",
        "X_train_imputed = imputer.fit_transform(X_train)\n",
        "\n",
        "clf = svm.SVC()\n",
        "clf.fit(X_train_imputed, y_train)\n",
        "\n",
        "support_vectors = clf.support_vectors_\n",
        "\n",
        "print(\"Support Vectors:\")\n",
        "print(support_vectors)"
      ],
      "metadata": {
        "id": "R5VldUmoAweb",
        "outputId": "01e20566-7488-4066-a872-065abc02a328",
        "colab": {
          "base_uri": "https://localhost:8080/"
        }
      },
      "execution_count": 11,
      "outputs": [
        {
          "output_type": "stream",
          "name": "stdout",
          "text": [
            "Support Vectors:\n",
            "[[ 0.  1.  0.  0. 25. 45.]\n",
            " [ 1.  0.  1.  1. 15. 35.]]\n"
          ]
        }
      ]
    },
    {
      "cell_type": "code",
      "source": [],
      "metadata": {
        "id": "aqR27JynOPs5"
      },
      "execution_count": null,
      "outputs": []
    },
    {
      "cell_type": "code",
      "source": [
        "#A2\n",
        "import pandas as pd\n",
        "from sklearn import svm\n",
        "from sklearn.model_selection import train_test_split\n",
        "from sklearn.preprocessing import LabelEncoder\n",
        "from sklearn.impute import SimpleImputer\n",
        "\n",
        "columns_to_drop = ['Unnamed: 0', 'id']\n",
        "df = df.drop(columns_to_drop, axis=1, errors='ignore')\n",
        "\n",
        "label_encoder = LabelEncoder()\n",
        "for column in ['Gender', 'Customer Type', 'Type of Travel', 'Class', 'satisfaction']:\n",
        "    df[column] = label_encoder.fit_transform(df[column])\n",
        "\n",
        "X = df.drop('satisfaction', axis=1)\n",
        "y = df['satisfaction']\n",
        "\n",
        "class_1 = 0\n",
        "class_2 = 1\n",
        "\n",
        "X_binary = X[(y == class_1) | (y == class_2)]\n",
        "y_binary = y[(y == class_1) | (y == class_2)]\n",
        "\n",
        "X_train, X_test, y_train, y_test = train_test_split(X_binary, y_binary, test_size=0.2, random_state=42)\n",
        "\n",
        "imputer = SimpleImputer(strategy='mean')\n",
        "X_train_imputed = imputer.fit_transform(X_train)\n",
        "X_test_imputed = imputer.transform(X_test)\n",
        "\n",
        "clf = svm.SVC()\n",
        "\n",
        "clf.fit(X_train_imputed, y_train)\n",
        "\n",
        "accuracy = clf.score(X_test_imputed, y_test)\n",
        "print(f\"Accuracy on the test set: {accuracy:.2%}\")\n",
        "\n",
        "test_vector = X_test_imputed[0]\n",
        "predicted_class = clf.predict([test_vector])\n",
        "\n",
        "print(f\"Predicted class for the test vector: {predicted_class}\")"
      ],
      "metadata": {
        "id": "hKj9FHdKAwIm",
        "outputId": "dd90dcac-54fd-4508-e4e7-fc436356fb21",
        "colab": {
          "base_uri": "https://localhost:8080/"
        }
      },
      "execution_count": 15,
      "outputs": [
        {
          "output_type": "stream",
          "name": "stdout",
          "text": [
            "Accuracy on the test set: 66.57%\n",
            "Predicted class for the test vector: [0]\n"
          ]
        }
      ]
    },
    {
      "cell_type": "code",
      "source": [
        "#A3\n",
        "\n",
        "from sklearn import svm\n",
        "from sklearn.model_selection import train_test_split\n",
        "from sklearn.preprocessing import LabelEncoder\n",
        "from sklearn.impute import SimpleImputer\n",
        "\n",
        "df = pd.read_csv('test.csv')\n",
        "\n",
        "columns_to_drop = ['Unnamed: 0', 'id']\n",
        "df = df.drop(columns_to_drop, axis=1, errors='ignore')\n",
        "\n",
        "label_encoder = LabelEncoder()\n",
        "for column in ['Gender', 'Customer Type', 'Type of Travel', 'Class', 'satisfaction']:\n",
        "    df[column] = label_encoder.fit_transform(df[column])\n",
        "\n",
        "X = df.drop('satisfaction', axis=1)\n",
        "y = df['satisfaction']\n",
        "\n",
        "class_1 = 0\n",
        "class_2 = 1\n",
        "\n",
        "X_binary = X[(y == class_1) | (y == class_2)]\n",
        "y_binary = y[(y == class_1) | (y == class_2)]\n",
        "\n",
        "X_train, X_test, y_train, y_test = train_test_split(X_binary, y_binary, test_size=0.2, random_state=42)\n",
        "\n",
        "imputer = SimpleImputer(strategy='mean')\n",
        "X_train_imputed = imputer.fit_transform(X_train)\n",
        "X_test_imputed = imputer.transform(X_test)\n",
        "\n",
        "clf = svm.SVC()\n",
        "\n",
        "clf.fit(X_train_imputed, y_train)\n",
        "\n",
        "predicted_labels = clf.predict(X_test_imputed)\n",
        "\n",
        "accuracy = sum(predicted_labels == y_test) / len(y_test)\n",
        "print(f\"Accuracy on the test set: {accuracy:.2%}\")\n",
        "\n",
        "result_df = pd.DataFrame({'Actual Label': y_test, 'Predicted Label': predicted_labels})\n",
        "print(result_df)\n"
      ],
      "metadata": {
        "id": "vChp5fMaAvp4",
        "outputId": "2bf9a691-c203-4c04-d4e2-b032e50d0251",
        "colab": {
          "base_uri": "https://localhost:8080/"
        }
      },
      "execution_count": 13,
      "outputs": [
        {
          "output_type": "stream",
          "name": "stdout",
          "text": [
            "Accuracy on the test set: 66.57%\n",
            "       Actual Label  Predicted Label\n",
            "13047             0                0\n",
            "14975             1                1\n",
            "12642             0                0\n",
            "23011             1                1\n",
            "13308             0                0\n",
            "...             ...              ...\n",
            "11106             1                1\n",
            "10256             1                0\n",
            "20216             1                1\n",
            "7029              1                1\n",
            "17124             1                0\n",
            "\n",
            "[5196 rows x 2 columns]\n"
          ]
        }
      ]
    },
    {
      "cell_type": "code",
      "execution_count": 14,
      "metadata": {
        "colab": {
          "base_uri": "https://localhost:8080/"
        },
        "id": "X9LmKIYl-ZB5",
        "outputId": "e03dd1d8-a4d2-4820-a5a2-6197ad595438"
      },
      "outputs": [
        {
          "output_type": "stream",
          "name": "stderr",
          "text": [
            "/usr/local/lib/python3.10/dist-packages/sklearn/svm/_base.py:1244: ConvergenceWarning: Liblinear failed to converge, increase the number of iterations.\n",
            "  warnings.warn(\n"
          ]
        },
        {
          "output_type": "stream",
          "name": "stdout",
          "text": [
            "Accuracy with linear kernel: 85.28%\n",
            "Accuracy with poly kernel: 66.94%\n",
            "Accuracy with rbf kernel: 66.57%\n",
            "Accuracy with sigmoid kernel: 41.78%\n"
          ]
        }
      ],
      "source": [
        "#A4\n",
        "\n",
        "from sklearn.model_selection import train_test_split\n",
        "from sklearn.preprocessing import LabelEncoder\n",
        "from sklearn.impute import SimpleImputer\n",
        "from sklearn.svm import SVC, LinearSVC\n",
        "from sklearn.metrics import accuracy_score\n",
        "\n",
        "df = pd.read_csv('test.csv')\n",
        "\n",
        "columns_to_drop = ['Unnamed: 0', 'id']\n",
        "df = df.drop(columns_to_drop, axis=1, errors='ignore')\n",
        "\n",
        "label_encoder = LabelEncoder()\n",
        "for column in ['Gender', 'Customer Type', 'Type of Travel', 'Class', 'satisfaction']:\n",
        "    df[column] = label_encoder.fit_transform(df[column])\n",
        "\n",
        "X = df.drop('satisfaction', axis=1)\n",
        "y = df['satisfaction']\n",
        "\n",
        "X_train, X_test, y_train, y_test = train_test_split(X, y, test_size=0.2, random_state=42)\n",
        "\n",
        "imputer = SimpleImputer(strategy='mean')\n",
        "X_train_imputed = imputer.fit_transform(X_train)\n",
        "X_test_imputed = imputer.transform(X_test)\n",
        "\n",
        "kernel_functions = ['linear', 'poly', 'rbf', 'sigmoid']\n",
        "\n",
        "for kernel in kernel_functions:\n",
        "    if kernel == 'linear':\n",
        "\n",
        "        clf = LinearSVC()\n",
        "    else:\n",
        "        clf = SVC(kernel=kernel)\n",
        "\n",
        "    clf.fit(X_train_imputed, y_train)\n",
        "\n",
        "    predicted_labels = clf.predict(X_test_imputed)\n",
        "\n",
        "    accuracy = accuracy_score(y_test, predicted_labels)\n",
        "    print(f\"Accuracy with {kernel} kernel: {accuracy:.2%}\")"
      ]
    }
  ]
}